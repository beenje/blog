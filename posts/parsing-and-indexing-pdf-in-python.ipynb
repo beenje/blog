{
 "cells": [
  {
   "cell_type": "markdown",
   "metadata": {},
   "source": [
    "I have a [Doxie Go](http://www.getdoxie.com) scanner and I scan all the documents I receive in paper.\n",
    "That's nice, but it creates another problem. All the resulting PDF files have to be named, organized and stored...\n",
    "Doing that manually is boring and time consuming. Of course that's something I want to automate!\n",
    "\n",
    "I even bought [Hazel](https://www.noodlesoft.com) a while ago.\n",
    "It's a nice software that monitors files in a folder and performs specific instructions based on the rules you defined.\n",
    "It works well but I felt a bit limited and I thought I could probably write something more tailored to my use case.\n",
    "And that would be more fun :-)"
   ]
  },
  {
   "cell_type": "markdown",
   "metadata": {},
   "source": [
    "# Parsing PDF in Python\n",
    "\n",
    "A quick solution I found was to run [pdftotext](https://linux.die.net/man/1/pdftotext) using subprocess.\n",
    "I looked at [PDFMiner](https://euske.github.io/pdfminer/), a pure Python PDF parser but I found pdftotext\n",
    "output to be more accurate.\n",
    "On MacOS, you can install it using [Homebrew](http://brew.sh):\n",
    "```\n",
    "$ brew install Caskroom/cask/pdftotext\n",
    "```\n",
    "\n",
    "Here is a simple Python function to do that:"
   ]
  },
  {
   "cell_type": "code",
   "execution_count": 1,
   "metadata": {
    "collapsed": true
   },
   "outputs": [],
   "source": [
    "import subprocess\n",
    "\n",
    "def parse_pdf(filename):\n",
    "    try:\n",
    "        content = subprocess.check_output([\"pdftotext\", '-enc', 'UTF-8', filename, \"-\"])\n",
    "    except subprocess.CalledProcessError as e:\n",
    "        print('Skipping {} (pdftotext returned status {})'.format(filename, e.returncode))\n",
    "        return None\n",
    "    return content.decode('utf-8')"
   ]
  },
  {
   "cell_type": "markdown",
   "metadata": {},
   "source": [
    "Let's try to parse a pdf file. We'll use `requests` to download a sample file."
   ]
  },
  {
   "cell_type": "code",
   "execution_count": 2,
   "metadata": {
    "collapsed": true
   },
   "outputs": [],
   "source": [
    "import requests\n",
    "\n",
    "url = 'http://www.cbu.edu.zm/downloads/pdf-sample.pdf'\n",
    "response = requests.get(url)\n",
    "with open('/tmp/pdf-sample.pdf', 'wb') as f:\n",
    "    f.write(response.content)"
   ]
  },
  {
   "cell_type": "markdown",
   "metadata": {},
   "source": [
    "Let's first look at the PDF:"
   ]
  },
  {
   "cell_type": "code",
   "execution_count": 3,
   "metadata": {
    "collapsed": false
   },
   "outputs": [
    {
     "data": {
      "text/html": [
       "\n",
       "        <iframe\n",
       "            width=\"600\"\n",
       "            height=\"870\"\n",
       "            src=\"http://www.cbu.edu.zm/downloads/pdf-sample.pdf\"\n",
       "            frameborder=\"0\"\n",
       "            allowfullscreen\n",
       "        ></iframe>\n",
       "        "
      ],
      "text/plain": [
       "<IPython.lib.display.IFrame at 0x10473bd68>"
      ]
     },
     "execution_count": 3,
     "metadata": {},
     "output_type": "execute_result"
    }
   ],
   "source": [
    "from IPython.display import IFrame\n",
    "IFrame('http://www.cbu.edu.zm/downloads/pdf-sample.pdf', width=600, height=870)"
   ]
  },
  {
   "cell_type": "markdown",
   "metadata": {},
   "source": [
    "Nothing complex. It should be easy to parse."
   ]
  },
  {
   "cell_type": "code",
   "execution_count": 4,
   "metadata": {
    "collapsed": false
   },
   "outputs": [
    {
     "data": {
      "text/plain": [
       "\"Adobe Acrobat PDF Files\\nAdobe® Portable Document Format (PDF) is a universal file format that preserves all of the fonts, formatting, colours and graphics of any source document, regardless of the application and platform used to create it. Adobe PDF is an ideal format for electronic document distribution as it overcomes the problems commonly encountered with electronic file sharing. • Anyone, anywhere can open a PDF file. All you need is the free Adobe Acrobat Reader. Recipients of other file formats sometimes can't open files because they don't have the applications used to create the documents. PDF files always print correctly on any printing device. PDF files always display exactly as created, regardless of fonts, software, and operating systems. Fonts, and graphics are not lost due to platform, software, and version incompatibilities. The free Acrobat Reader is easy to download and can be freely distributed by anyone. Compact PDF files are smaller than their source files and download a page at a time for fast display on the Web.\\n\\n• •\\n\\n• •\\n\\n\\x0c\""
      ]
     },
     "execution_count": 4,
     "metadata": {},
     "output_type": "execute_result"
    }
   ],
   "source": [
    "content = parse_pdf('/tmp/pdf-sample.pdf')\n",
    "content"
   ]
  },
  {
   "cell_type": "markdown",
   "metadata": {},
   "source": [
    "This works quite well. The layout is not respected but it's the text that matters. It would be easy to define some regex to define rules based on the PDF content.\n",
    "\n",
    "This could be the first step in naming and organizing the scanned documents.\n",
    "But it would be nice to have an interface to easily search in all the files.\n",
    "I've already used MongoDB full text search in a webapp I wrote and it worked well for my use case.\n",
    "But I read about Elasticsearch and I always wanted to give it a try."
   ]
  },
  {
   "cell_type": "markdown",
   "metadata": {},
   "source": [
    "# Elasticsearch Ingest Attachment Processor Plugin\n",
    "\n",
    "I could just index the result from pdftotext, but I know there is a plugin that can parse PDF files.\n",
    "\n",
    "The [Mapper Attachments Type plugin](https://github.com/elastic/elasticsearch-mapper-attachments#mapper-attachments-type-for-elasticsearch>)\n",
    "is [deprecated](https://www.elastic.co/guide/en/elasticsearch/plugins/5.x/mapper-attachments.html>)\n",
    "in 5.0.0. It has been replaced with the [ingest-attachment](https://www.elastic.co/guide/en/elasticsearch/plugins/5.x/ingest-attachment.html)\n",
    "plugin.\n",
    "So let's look at that."
   ]
  },
  {
   "cell_type": "markdown",
   "metadata": {},
   "source": [
    "## Running Elasticsearch\n",
    "\n",
    "\n",
    "To run Elasticsearch, the easiest is to use Docker.\n",
    "As the official image from [Docker Hub](https://hub.docker.com/_/elasticsearch/) comes with no plugin, we'll\n",
    "create our own image.\n",
    "See [Elasticsearch Plugin Management with Docker](https://www.elastic.co/blog/elasticsearch-docker-plugin-management)\n",
    "for more information.\n",
    "\n",
    "Here is our `Dockerfile`:\n",
    "\n",
    "```\n",
    "FROM elasticsearch:5\n",
    "\n",
    "RUN /usr/share/elasticsearch/bin/elasticsearch-plugin install ingest-attachment\n",
    "```\n",
    "\n",
    "Create the `elasticsearch-ingest` docker image:\n",
    "\n",
    "```\n",
    "$ docker build -t elasticsearch-ingest .\n",
    "```\n",
    "\n",
    "We can now run elasticsearch with the ingest-attachment plugin:\n",
    "\n",
    "```\n",
    "$ docker run -d -p 9200:9200 elasticsearch-ingest\n",
    "```"
   ]
  },
  {
   "cell_type": "markdown",
   "metadata": {},
   "source": [
    "## Python Elasticsearch Client\n",
    "\n",
    "We'll use [elasticsearch-py](https://elasticsearch-py.readthedocs.io/en/master/)\n",
    "to interact with our Elasticsearch cluster.\n"
   ]
  },
  {
   "cell_type": "code",
   "execution_count": 5,
   "metadata": {
    "collapsed": true
   },
   "outputs": [],
   "source": [
    "from elasticsearch import Elasticsearch\n",
    "es = Elasticsearch()"
   ]
  },
  {
   "cell_type": "markdown",
   "metadata": {},
   "source": [
    "Let's first check that our elasticsearch cluster is alive by asking about its health:"
   ]
  },
  {
   "cell_type": "code",
   "execution_count": 6,
   "metadata": {
    "collapsed": false
   },
   "outputs": [
    {
     "data": {
      "text/plain": [
       "'1479333419 21:56:59 elasticsearch green 1 1 0 0 0 0 0 0 - 100.0%\\n'"
      ]
     },
     "execution_count": 6,
     "metadata": {},
     "output_type": "execute_result"
    }
   ],
   "source": [
    "es.cat.health()"
   ]
  },
  {
   "cell_type": "markdown",
   "metadata": {},
   "source": [
    "Nice! We can start playing with our ES cluster.\n",
    "\n",
    "As described in the [documentation](https://www.elastic.co/guide/en/elasticsearch/plugins/master/using-ingest-attachment.html), we first have to create a pipeline to use the Ingest Attachment Processor Plugin:\n",
    "\n",
    "```\n",
    "PUT _ingest/pipeline/attachment\n",
    "{\n",
    "  \"description\" : \"Extract attachment information\",\n",
    "  \"processors\" : [\n",
    "    {\n",
    "      \"attachment\" : {\n",
    "        \"field\" : \"data\"\n",
    "      }\n",
    "    }\n",
    "  ]\n",
    "}\n",
    "```\n",
    "\n",
    "OK, how do we do that using the Python client?"
   ]
  },
  {
   "cell_type": "code",
   "execution_count": 7,
   "metadata": {
    "collapsed": false
   },
   "outputs": [
    {
     "data": {
      "text/plain": [
       "{'acknowledged': True}"
      ]
     },
     "execution_count": 7,
     "metadata": {},
     "output_type": "execute_result"
    }
   ],
   "source": [
    "body = {\n",
    "  \"description\" : \"Extract attachment information\",\n",
    "  \"processors\" : [\n",
    "    {\n",
    "      \"attachment\" : {\n",
    "        \"field\" : \"data\"\n",
    "      }\n",
    "    }\n",
    "  ]\n",
    "}\n",
    "es.index(index='_ingest', doc_type='pipeline', id='attachment', body=body)"
   ]
  },
  {
   "cell_type": "markdown",
   "metadata": {},
   "source": [
    "Now, we can send a document to our pipeline. Let's start by using the same example as in the documentation:\n",
    "\n",
    "```\n",
    "PUT my_index/my_type/my_id?pipeline=attachment\n",
    "{\n",
    "  \"data\": \"e1xydGYxXGFuc2kNCkxvcmVtIGlwc3VtIGRvbG9yIHNpdCBhbWV0DQpccGFyIH0=\"\n",
    "}\n",
    "```\n",
    "\n",
    "Using Python client, this gives:"
   ]
  },
  {
   "cell_type": "code",
   "execution_count": 8,
   "metadata": {
    "collapsed": false
   },
   "outputs": [
    {
     "data": {
      "text/plain": [
       "{'_id': 'AVhvJKzVIvjFWZACJU_t',\n",
       " '_index': 'my_index',\n",
       " '_shards': {'failed': 0, 'successful': 1, 'total': 2},\n",
       " '_type': 'my_type',\n",
       " '_version': 1,\n",
       " 'created': True,\n",
       " 'result': 'created'}"
      ]
     },
     "execution_count": 8,
     "metadata": {},
     "output_type": "execute_result"
    }
   ],
   "source": [
    "result1 = es.index(index='my_index', doc_type='my_type', pipeline='attachment',\n",
    "                  body={'data': \"e1xydGYxXGFuc2kNCkxvcmVtIGlwc3VtIGRvbG9yIHNpdCBhbWV0DQpccGFyIH0=\"})\n",
    "result1"
   ]
  },
  {
   "cell_type": "markdown",
   "metadata": {},
   "source": [
    "Let's try to get the created document based on its id:"
   ]
  },
  {
   "cell_type": "code",
   "execution_count": 9,
   "metadata": {
    "collapsed": false
   },
   "outputs": [
    {
     "data": {
      "text/plain": [
       "{'_id': 'AVhvJKzVIvjFWZACJU_t',\n",
       " '_index': 'my_index',\n",
       " '_source': {'attachment': {'content': 'Lorem ipsum dolor sit amet',\n",
       "   'content_length': 28,\n",
       "   'content_type': 'application/rtf',\n",
       "   'language': 'ro'},\n",
       "  'data': 'e1xydGYxXGFuc2kNCkxvcmVtIGlwc3VtIGRvbG9yIHNpdCBhbWV0DQpccGFyIH0='},\n",
       " '_type': 'my_type',\n",
       " '_version': 1,\n",
       " 'found': True}"
      ]
     },
     "execution_count": 9,
     "metadata": {},
     "output_type": "execute_result"
    }
   ],
   "source": [
    "es.get(index='my_index', doc_type='my_type', id=result1['_id'])"
   ]
  },
  {
   "cell_type": "markdown",
   "metadata": {},
   "source": [
    "We can see that the binary data passed to the pipeline was a Rich Text Format file and that the content was extracted: *Lorem ipsum dolor sit amet*\n",
    "\n",
    "Displaying the binary data is not very useful. It doesn't matter in this example as it's quite small.\n",
    "But it would be much bigger even on small files. We can exclude it using `_source_exclude`:"
   ]
  },
  {
   "cell_type": "code",
   "execution_count": 10,
   "metadata": {
    "collapsed": false
   },
   "outputs": [
    {
     "data": {
      "text/plain": [
       "{'_id': 'AVhvJKzVIvjFWZACJU_t',\n",
       " '_index': 'my_index',\n",
       " '_source': {'attachment': {'content': 'Lorem ipsum dolor sit amet',\n",
       "   'content_length': 28,\n",
       "   'content_type': 'application/rtf',\n",
       "   'language': 'ro'}},\n",
       " '_type': 'my_type',\n",
       " '_version': 1,\n",
       " 'found': True}"
      ]
     },
     "execution_count": 10,
     "metadata": {},
     "output_type": "execute_result"
    }
   ],
   "source": [
    "es.get(index='my_index', doc_type='my_type', id=result1['_id'], _source_exclude=['data'])"
   ]
  },
  {
   "cell_type": "markdown",
   "metadata": {
    "collapsed": true
   },
   "source": [
    "## Indexing PDF files\n",
    "\n",
    "Let's try to parse the same sample pdf as before."
   ]
  },
  {
   "cell_type": "code",
   "execution_count": 11,
   "metadata": {
    "collapsed": true
   },
   "outputs": [],
   "source": [
    "url = 'http://www.cbu.edu.zm/downloads/pdf-sample.pdf'\n",
    "response = requests.get(url)"
   ]
  },
  {
   "cell_type": "markdown",
   "metadata": {},
   "source": [
    "Note that we have to encode the content of the pdf before to pass it to ES.\n",
    "The source field must be a base64 encoded binary."
   ]
  },
  {
   "cell_type": "code",
   "execution_count": 12,
   "metadata": {
    "collapsed": true
   },
   "outputs": [],
   "source": [
    "import base64\n",
    "\n",
    "data = base64.b64encode(response.content).decode('ascii')"
   ]
  },
  {
   "cell_type": "code",
   "execution_count": 13,
   "metadata": {
    "collapsed": false
   },
   "outputs": [
    {
     "data": {
      "text/plain": [
       "{'_id': 'AVhvJMC6IvjFWZACJU_u',\n",
       " '_index': 'my_index',\n",
       " '_shards': {'failed': 0, 'successful': 1, 'total': 2},\n",
       " '_type': 'my_type',\n",
       " '_version': 1,\n",
       " 'created': True,\n",
       " 'result': 'created'}"
      ]
     },
     "execution_count": 13,
     "metadata": {},
     "output_type": "execute_result"
    }
   ],
   "source": [
    "result2 = es.index(index='my_index', doc_type='my_type', pipeline='attachment',\n",
    "                  body={'data': data})\n",
    "result2"
   ]
  },
  {
   "cell_type": "markdown",
   "metadata": {},
   "source": [
    "We can get the document based on its id:"
   ]
  },
  {
   "cell_type": "code",
   "execution_count": 14,
   "metadata": {
    "collapsed": false
   },
   "outputs": [
    {
     "data": {
      "text/plain": [
       "{'_id': 'AVhvJMC6IvjFWZACJU_u',\n",
       " '_index': 'my_index',\n",
       " '_source': {'attachment': {'author': 'cdaily',\n",
       "   'content': \"Adobe Acrobat PDF Files\\n\\nAdobe® Portable Document Format (PDF) is a universal file format that preserves all\\nof the fonts, formatting, colours and graphics of any source document, regardless of\\nthe application and platform used to create it.\\n\\nAdobe PDF is an ideal format for electronic document distribution as it overcomes the\\nproblems commonly encountered with electronic file sharing.\\n\\n•  Anyone, anywhere can open a PDF file. All you need is the free Adobe Acrobat\\nReader. Recipients of other file formats sometimes can't open files because they\\ndon't have the applications used to create the documents.\\n\\n•  PDF files always print correctly on any printing device.\\n\\n•  PDF files always display exactly as created, regardless of fonts, software, and\\noperating systems. Fonts, and graphics are not lost due to platform, software, and\\nversion incompatibilities.\\n\\n•  The free Acrobat Reader is easy to download and can be freely distributed by\\nanyone.\\n\\n•  Compact PDF files are smaller than their source files and download a\\npage at a time for fast display on the Web.\",\n",
       "   'content_length': 1073,\n",
       "   'content_type': 'application/pdf',\n",
       "   'date': '2000-06-28T23:21:08Z',\n",
       "   'language': 'en',\n",
       "   'title': 'This is a test PDF file'}},\n",
       " '_type': 'my_type',\n",
       " '_version': 1,\n",
       " 'found': True}"
      ]
     },
     "execution_count": 14,
     "metadata": {},
     "output_type": "execute_result"
    }
   ],
   "source": [
    "doc = es.get(index='my_index', doc_type='my_type', id=result2['_id'], _source_exclude=['data'])\n",
    "doc"
   ]
  },
  {
   "cell_type": "markdown",
   "metadata": {},
   "source": [
    "Or with a basic search:"
   ]
  },
  {
   "cell_type": "code",
   "execution_count": 15,
   "metadata": {
    "collapsed": false
   },
   "outputs": [
    {
     "data": {
      "text/plain": [
       "{'_shards': {'failed': 0, 'successful': 5, 'total': 5},\n",
       " 'hits': {'hits': [{'_id': 'AVhvJMC6IvjFWZACJU_u',\n",
       "    '_index': 'my_index',\n",
       "    '_score': 0.45930308,\n",
       "    '_source': {'attachment': {'author': 'cdaily',\n",
       "      'content': \"Adobe Acrobat PDF Files\\n\\nAdobe® Portable Document Format (PDF) is a universal file format that preserves all\\nof the fonts, formatting, colours and graphics of any source document, regardless of\\nthe application and platform used to create it.\\n\\nAdobe PDF is an ideal format for electronic document distribution as it overcomes the\\nproblems commonly encountered with electronic file sharing.\\n\\n•  Anyone, anywhere can open a PDF file. All you need is the free Adobe Acrobat\\nReader. Recipients of other file formats sometimes can't open files because they\\ndon't have the applications used to create the documents.\\n\\n•  PDF files always print correctly on any printing device.\\n\\n•  PDF files always display exactly as created, regardless of fonts, software, and\\noperating systems. Fonts, and graphics are not lost due to platform, software, and\\nversion incompatibilities.\\n\\n•  The free Acrobat Reader is easy to download and can be freely distributed by\\nanyone.\\n\\n•  Compact PDF files are smaller than their source files and download a\\npage at a time for fast display on the Web.\",\n",
       "      'content_length': 1073,\n",
       "      'content_type': 'application/pdf',\n",
       "      'date': '2000-06-28T23:21:08Z',\n",
       "      'language': 'en',\n",
       "      'title': 'This is a test PDF file'}},\n",
       "    '_type': 'my_type'}],\n",
       "  'max_score': 0.45930308,\n",
       "  'total': 1},\n",
       " 'timed_out': False,\n",
       " 'took': 75}"
      ]
     },
     "execution_count": 15,
     "metadata": {},
     "output_type": "execute_result"
    }
   ],
   "source": [
    "es.search(index='my_index', doc_type='my_type', q='Adobe', _source_exclude=['data'])"
   ]
  },
  {
   "cell_type": "markdown",
   "metadata": {},
   "source": [
    "Of course Elasticsearch allows much more complex queries. But that's something for another time.\n",
    "\n",
    "One interesting thing is that by printing the content, we can see that even the layout is quite acurate! Much better than the pdftotext output:"
   ]
  },
  {
   "cell_type": "code",
   "execution_count": 16,
   "metadata": {
    "collapsed": false
   },
   "outputs": [
    {
     "name": "stdout",
     "output_type": "stream",
     "text": [
      "Adobe Acrobat PDF Files\n",
      "\n",
      "Adobe® Portable Document Format (PDF) is a universal file format that preserves all\n",
      "of the fonts, formatting, colours and graphics of any source document, regardless of\n",
      "the application and platform used to create it.\n",
      "\n",
      "Adobe PDF is an ideal format for electronic document distribution as it overcomes the\n",
      "problems commonly encountered with electronic file sharing.\n",
      "\n",
      "•  Anyone, anywhere can open a PDF file. All you need is the free Adobe Acrobat\n",
      "Reader. Recipients of other file formats sometimes can't open files because they\n",
      "don't have the applications used to create the documents.\n",
      "\n",
      "•  PDF files always print correctly on any printing device.\n",
      "\n",
      "•  PDF files always display exactly as created, regardless of fonts, software, and\n",
      "operating systems. Fonts, and graphics are not lost due to platform, software, and\n",
      "version incompatibilities.\n",
      "\n",
      "•  The free Acrobat Reader is easy to download and can be freely distributed by\n",
      "anyone.\n",
      "\n",
      "•  Compact PDF files are smaller than their source files and download a\n",
      "page at a time for fast display on the Web.\n"
     ]
    }
   ],
   "source": [
    "print(doc['_source']['attachment']['content'])"
   ]
  },
  {
   "cell_type": "markdown",
   "metadata": {},
   "source": [
    "The ingest-attachment plugin uses the Apache text extraction library [Tika](http://tika.apache.org).\n",
    "It's really powerful. It detects and extracts metadata and text from many file types.\n",
    "\n",
    "Sending the file directly to Elasticsearch is nice, but in my use case, I'd like to process the file (change its title, move it to a specific location...) based on its content. I could of course update the document in ES after processing it.\n",
    "\n",
    "It might be better in some case to decorelate the parsing and processing from the indexing.\n",
    "So let's check how to use Tika from Python."
   ]
  },
  {
   "cell_type": "markdown",
   "metadata": {},
   "source": [
    "# Apache Tika\n",
    "\n",
    "[Tika-Python](https://github.com/chrismattmann/tika-python) makes Apache Tika available as a Python library.\n",
    "It can even starts a Tika REST server in the background, but this requires Java 7+ to be installed.\n",
    "I prefer to run the server myself using the prebuilt docker image: [docker-tikaserver](http://logicalspark.github.io/docker-tikaserver/).\n",
    "Like that I have control of what is running.\n",
    "\n",
    "```\n",
    "$ docker run --rm -p 9998:9998 logicalspark/docker-tikaserver\n",
    "```\n",
    "\n",
    "We can then set Tika-Python to use Client mode only:"
   ]
  },
  {
   "cell_type": "code",
   "execution_count": 17,
   "metadata": {
    "collapsed": true
   },
   "outputs": [],
   "source": [
    "import tika\n",
    "tika.TikaClientOnly = True\n",
    "from tika import parser"
   ]
  },
  {
   "cell_type": "code",
   "execution_count": 18,
   "metadata": {
    "collapsed": false
   },
   "outputs": [
    {
     "name": "stderr",
     "output_type": "stream",
     "text": [
      "2016-11-16 22:57:14,233 [MainThread  ] [INFO ]  Starting new HTTP connection (1): localhost\n"
     ]
    }
   ],
   "source": [
    "parsed = parser.from_file('/tmp/pdf-sample.pdf', 'http://localhost:9998/tika')"
   ]
  },
  {
   "cell_type": "code",
   "execution_count": 19,
   "metadata": {
    "collapsed": false
   },
   "outputs": [
    {
     "data": {
      "text/plain": [
       "{'content': \"\\n\\n\\n\\n\\n\\n\\n\\n\\n\\n\\n\\n\\n\\n\\n\\n\\n\\n\\n\\n\\n\\n\\n\\n\\n\\n\\n\\n\\n\\n\\n\\n\\n\\n\\n\\n\\n\\n\\n\\n\\n\\nThis is a test PDF file\\n\\n\\nAdobe Acrobat PDF Files\\n\\nAdobe® Portable Document Format (PDF) is a universal file format that preserves all\\nof the fonts, formatting, colours and graphics of any source document, regardless of\\nthe application and platform used to create it.\\n\\nAdobe PDF is an ideal format for electronic document distribution as it overcomes the\\nproblems commonly encountered with electronic file sharing.\\n\\n•  Anyone, anywhere can open a PDF file. All you need is the free Adobe Acrobat\\nReader. Recipients of other file formats sometimes can't open files because they\\ndon't have the applications used to create the documents.\\n\\n•  PDF files always print correctly on any printing device.\\n\\n•  PDF files always display exactly as created, regardless of fonts, software, and\\noperating systems. Fonts, and graphics are not lost due to platform, software, and\\nversion incompatibilities.\\n\\n•  The free Acrobat Reader is easy to download and can be freely distributed by\\nanyone.\\n\\n•  Compact PDF files are smaller than their source files and download a\\npage at a time for fast display on the Web.\\n\\n\\n\",\n",
       " 'metadata': {'Author': 'cdaily',\n",
       "  'Content-Type': 'application/pdf',\n",
       "  'Creation-Date': '2000-06-28T23:21:08Z',\n",
       "  'Last-Modified': '2013-10-28T19:24:13Z',\n",
       "  'Last-Save-Date': '2013-10-28T19:24:13Z',\n",
       "  'X-Parsed-By': ['org.apache.tika.parser.DefaultParser',\n",
       "   'org.apache.tika.parser.pdf.PDFParser'],\n",
       "  'X-TIKA:parse_time_millis': '62',\n",
       "  'access_permission:assemble_document': 'true',\n",
       "  'access_permission:can_modify': 'true',\n",
       "  'access_permission:can_print': 'true',\n",
       "  'access_permission:can_print_degraded': 'true',\n",
       "  'access_permission:extract_content': 'true',\n",
       "  'access_permission:extract_for_accessibility': 'true',\n",
       "  'access_permission:fill_in_form': 'true',\n",
       "  'access_permission:modify_annotations': 'true',\n",
       "  'created': 'Wed Jun 28 23:21:08 UTC 2000',\n",
       "  'creator': 'cdaily',\n",
       "  'date': '2013-10-28T19:24:13Z',\n",
       "  'dc:creator': 'cdaily',\n",
       "  'dc:format': 'application/pdf; version=1.3',\n",
       "  'dc:title': 'This is a test PDF file',\n",
       "  'dcterms:created': '2000-06-28T23:21:08Z',\n",
       "  'dcterms:modified': '2013-10-28T19:24:13Z',\n",
       "  'meta:author': 'cdaily',\n",
       "  'meta:creation-date': '2000-06-28T23:21:08Z',\n",
       "  'meta:save-date': '2013-10-28T19:24:13Z',\n",
       "  'modified': '2013-10-28T19:24:13Z',\n",
       "  'pdf:PDFVersion': '1.3',\n",
       "  'pdf:docinfo:created': '2000-06-28T23:21:08Z',\n",
       "  'pdf:docinfo:creator': 'cdaily',\n",
       "  'pdf:docinfo:creator_tool': 'Microsoft Word 8.0',\n",
       "  'pdf:docinfo:modified': '2013-10-28T19:24:13Z',\n",
       "  'pdf:docinfo:producer': 'Acrobat Distiller 4.0 for Windows',\n",
       "  'pdf:docinfo:title': 'This is a test PDF file',\n",
       "  'pdf:encrypted': 'false',\n",
       "  'producer': 'Acrobat Distiller 4.0 for Windows',\n",
       "  'resourceName': 'pdf-sample.pdf',\n",
       "  'title': 'This is a test PDF file',\n",
       "  'xmp:CreatorTool': 'Microsoft Word 8.0',\n",
       "  'xmpMM:DocumentID': 'uuid:0805e221-80a8-459e-a522-635ed5c1e2e6',\n",
       "  'xmpTPg:NPages': '1'}}"
      ]
     },
     "execution_count": 19,
     "metadata": {},
     "output_type": "execute_result"
    }
   ],
   "source": [
    "parsed"
   ]
  },
  {
   "cell_type": "code",
   "execution_count": 20,
   "metadata": {
    "collapsed": false
   },
   "outputs": [
    {
     "name": "stdout",
     "output_type": "stream",
     "text": [
      "This is a test PDF file\n",
      "\n",
      "\n",
      "Adobe Acrobat PDF Files\n",
      "\n",
      "Adobe® Portable Document Format (PDF) is a universal file format that preserves all\n",
      "of the fonts, formatting, colours and graphics of any source document, regardless of\n",
      "the application and platform used to create it.\n",
      "\n",
      "Adobe PDF is an ideal format for electronic document distribution as it overcomes the\n",
      "problems commonly encountered with electronic file sharing.\n",
      "\n",
      "•  Anyone, anywhere can open a PDF file. All you need is the free Adobe Acrobat\n",
      "Reader. Recipients of other file formats sometimes can't open files because they\n",
      "don't have the applications used to create the documents.\n",
      "\n",
      "•  PDF files always print correctly on any printing device.\n",
      "\n",
      "•  PDF files always display exactly as created, regardless of fonts, software, and\n",
      "operating systems. Fonts, and graphics are not lost due to platform, software, and\n",
      "version incompatibilities.\n",
      "\n",
      "•  The free Acrobat Reader is easy to download and can be freely distributed by\n",
      "anyone.\n",
      "\n",
      "•  Compact PDF files are smaller than their source files and download a\n",
      "page at a time for fast display on the Web.\n"
     ]
    }
   ],
   "source": [
    "print(parsed['content'].strip())"
   ]
  },
  {
   "cell_type": "markdown",
   "metadata": {},
   "source": [
    "Not sure why we get the title of the PDF inside the content.\n",
    "Anyway the text is extracted properly and we even get a lot of metadata:"
   ]
  },
  {
   "cell_type": "code",
   "execution_count": 21,
   "metadata": {
    "collapsed": false
   },
   "outputs": [
    {
     "data": {
      "text/plain": [
       "{'Author': 'cdaily',\n",
       " 'Content-Type': 'application/pdf',\n",
       " 'Creation-Date': '2000-06-28T23:21:08Z',\n",
       " 'Last-Modified': '2013-10-28T19:24:13Z',\n",
       " 'Last-Save-Date': '2013-10-28T19:24:13Z',\n",
       " 'X-Parsed-By': ['org.apache.tika.parser.DefaultParser',\n",
       "  'org.apache.tika.parser.pdf.PDFParser'],\n",
       " 'X-TIKA:parse_time_millis': '62',\n",
       " 'access_permission:assemble_document': 'true',\n",
       " 'access_permission:can_modify': 'true',\n",
       " 'access_permission:can_print': 'true',\n",
       " 'access_permission:can_print_degraded': 'true',\n",
       " 'access_permission:extract_content': 'true',\n",
       " 'access_permission:extract_for_accessibility': 'true',\n",
       " 'access_permission:fill_in_form': 'true',\n",
       " 'access_permission:modify_annotations': 'true',\n",
       " 'created': 'Wed Jun 28 23:21:08 UTC 2000',\n",
       " 'creator': 'cdaily',\n",
       " 'date': '2013-10-28T19:24:13Z',\n",
       " 'dc:creator': 'cdaily',\n",
       " 'dc:format': 'application/pdf; version=1.3',\n",
       " 'dc:title': 'This is a test PDF file',\n",
       " 'dcterms:created': '2000-06-28T23:21:08Z',\n",
       " 'dcterms:modified': '2013-10-28T19:24:13Z',\n",
       " 'meta:author': 'cdaily',\n",
       " 'meta:creation-date': '2000-06-28T23:21:08Z',\n",
       " 'meta:save-date': '2013-10-28T19:24:13Z',\n",
       " 'modified': '2013-10-28T19:24:13Z',\n",
       " 'pdf:PDFVersion': '1.3',\n",
       " 'pdf:docinfo:created': '2000-06-28T23:21:08Z',\n",
       " 'pdf:docinfo:creator': 'cdaily',\n",
       " 'pdf:docinfo:creator_tool': 'Microsoft Word 8.0',\n",
       " 'pdf:docinfo:modified': '2013-10-28T19:24:13Z',\n",
       " 'pdf:docinfo:producer': 'Acrobat Distiller 4.0 for Windows',\n",
       " 'pdf:docinfo:title': 'This is a test PDF file',\n",
       " 'pdf:encrypted': 'false',\n",
       " 'producer': 'Acrobat Distiller 4.0 for Windows',\n",
       " 'resourceName': 'pdf-sample.pdf',\n",
       " 'title': 'This is a test PDF file',\n",
       " 'xmp:CreatorTool': 'Microsoft Word 8.0',\n",
       " 'xmpMM:DocumentID': 'uuid:0805e221-80a8-459e-a522-635ed5c1e2e6',\n",
       " 'xmpTPg:NPages': '1'}"
      ]
     },
     "execution_count": 21,
     "metadata": {},
     "output_type": "execute_result"
    }
   ],
   "source": [
    "parsed['metadata']"
   ]
  },
  {
   "cell_type": "markdown",
   "metadata": {},
   "source": [
    "# Conclusion\n",
    "\n",
    "We saw different methods to extract text from PDF in Python.\n",
    "Depending on what you want to do, one might suit you better. And this was of course not exhaustive.\n",
    "\n",
    "If you want to index PDFs, Elasticsearch might be all you need.\n",
    "The ingest-attachment plugin uses [Apache Tika](http://tika.apache.org) which is very powerful.\n",
    "\n",
    "And thanks to [Tika-Python](https://github.com/chrismattmann/tika-python), it's very easy to use Tika directly from Python.\n",
    "You can let the library starts the server or use Docker to start your own."
   ]
  }
 ],
 "metadata": {
  "kernelspec": {
   "display_name": "Python 3",
   "language": "python",
   "name": "python3"
  },
  "language_info": {
   "codemirror_mode": {
    "name": "ipython",
    "version": 3
   },
   "file_extension": ".py",
   "mimetype": "text/x-python",
   "name": "python",
   "nbconvert_exporter": "python",
   "pygments_lexer": "ipython3",
   "version": "3.5.2"
  },
  "nikola": {
   "category": "python",
   "date": "2016-11-16 21:59:23 UTC+01:00",
   "description": "",
   "link": "",
   "slug": "parsing-and-indexing-pdf-in-python",
   "tags": "python,elasticsearch,tika",
   "title": "Parsing and indexing PDF in Python",
   "type": "text"
  }
 },
 "nbformat": 4,
 "nbformat_minor": 1
}
