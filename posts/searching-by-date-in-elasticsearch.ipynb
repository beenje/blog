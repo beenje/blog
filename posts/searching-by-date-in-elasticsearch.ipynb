{
 "cells": [
  {
   "cell_type": "markdown",
   "metadata": {},
   "source": [
    "I recently indexed some documents in Elasticsearch at work and had issues retrieving what I wanted by date. Googling didn't get me very useful results, except the official [documentation](https://www.elastic.co/guide/en/elasticsearch/reference/current/date.html). I thought it was worth sharing what wasn't obvious to me by reading the documentation.\n",
    "\n",
    "Let's start a single-node Elasticsearch cluster for test:"
   ]
  },
  {
   "cell_type": "code",
   "execution_count": 1,
   "metadata": {},
   "outputs": [
    {
     "name": "stdout",
     "output_type": "stream",
     "text": [
      "b7c18b6079414f728d2dbacd8c913fbb212026bc513808e03e75e7a81eda0753\n"
     ]
    }
   ],
   "source": [
    "!docker run -d -p 9200:9200 -p 9300:9300 -e \"discovery.type=single-node\" docker.elastic.co/elasticsearch/elasticsearch:7.6.0"
   ]
  },
  {
   "cell_type": "markdown",
   "metadata": {},
   "source": [
    "# Indexing documents in Elasticsearch"
   ]
  },
  {
   "cell_type": "markdown",
   "metadata": {},
   "source": [
    "Like in a previous [blog post](/posts/parsing-and-indexing-pdf-in-python/), I'll use the [Python Elasticsearch client](https://elasticsearch-py.readthedocs.io/en/master/)."
   ]
  },
  {
   "cell_type": "code",
   "execution_count": 2,
   "metadata": {},
   "outputs": [],
   "source": [
    "from datetime import datetime\n",
    "from elasticsearch import Elasticsearch\n",
    "es = Elasticsearch()"
   ]
  },
  {
   "cell_type": "markdown",
   "metadata": {},
   "source": [
    "Let's first check the cluster is alive:"
   ]
  },
  {
   "cell_type": "code",
   "execution_count": 3,
   "metadata": {},
   "outputs": [
    {
     "data": {
      "text/plain": [
       "'1583959014 20:36:54 docker-cluster green 1 1 0 0 0 0 0 17 1.2s 100.0%\\n'"
      ]
     },
     "execution_count": 3,
     "metadata": {},
     "output_type": "execute_result"
    }
   ],
   "source": [
    "es.cat.health()"
   ]
  },
  {
   "cell_type": "markdown",
   "metadata": {},
   "source": [
    "Here is the list of messages we want to index:"
   ]
  },
  {
   "cell_type": "code",
   "execution_count": 4,
   "metadata": {},
   "outputs": [],
   "source": [
    "messages = [\n",
    "    {\"date\": \"Fri, 11 Oct 2019 10:30:00 +0200\",\n",
    "    \"subject\": \"Beautiful is better than ugly\"\n",
    "    },\n",
    "    {\"date\": \"Wed, 09 Oct 2019 11:36:05 +0200\",\n",
    "    \"subject\": \"Explicit is better than implicit\"\n",
    "    },\n",
    "    {\"date\": \"Thu, 10 Oct 2019 19:16:25 +0200\",\n",
    "    \"subject\": \"Simple is better than complex\"\n",
    "    },\n",
    "    {\"date\": \"Fri, 01 Nov 2019 18:12:00 +0200\",\n",
    "    \"subject\": \"Complex is better than complicated\"\n",
    "    },\n",
    "    {\"date\": \"Wed, 09 Oct 2019 21:30:10 +0200\",\n",
    "    \"subject\": \"Flat is better than nested\"\n",
    "    },\n",
    "    {\"date\": \"Wed, 01 Jan 2020 09:23:00 +0200\",\n",
    "    \"subject\": \"Sparse is better than dense\"\n",
    "    },\n",
    "    {\"date\": \"Wed, 15 Jan 2020 14:06:07 +0200\",\n",
    "    \"subject\": \"Readability counts\"\n",
    "    },\n",
    "    {\"date\": \"Sat, 01 Feb 2020 12:00:00 +0200\",\n",
    "    \"subject\": \"Now is better than never\"\n",
    "    },\n",
    "]"
   ]
  },
  {
   "cell_type": "markdown",
   "metadata": {},
   "source": [
    "Let's index those messages. Note that we delete the index first to make sure it doesn't exist when running this notebook several times."
   ]
  },
  {
   "cell_type": "code",
   "execution_count": 5,
   "metadata": {},
   "outputs": [],
   "source": [
    "es.indices.delete(index=\"test-index\", ignore_unavailable=True)\n",
    "for id_, message in enumerate(messages):\n",
    "    es.index(index=\"test-index\", id=id_, body=message, refresh=True)"
   ]
  },
  {
   "cell_type": "code",
   "execution_count": 6,
   "metadata": {},
   "outputs": [
    {
     "data": {
      "text/plain": [
       "{'test-index': {'mappings': {'properties': {'date': {'type': 'text',\n",
       "     'fields': {'keyword': {'type': 'keyword', 'ignore_above': 256}}},\n",
       "    'subject': {'type': 'text',\n",
       "     'fields': {'keyword': {'type': 'keyword', 'ignore_above': 256}}}}}}}"
      ]
     },
     "execution_count": 6,
     "metadata": {},
     "output_type": "execute_result"
    }
   ],
   "source": [
    "es.indices.get_mapping(index=\"test-index\")"
   ]
  },
  {
   "cell_type": "markdown",
   "metadata": {},
   "source": [
    "Looking at the mapping, we see that the `date` field was indexed as `text` and not `date` datatype. Formatting the field to the isoformat should help."
   ]
  },
  {
   "cell_type": "code",
   "execution_count": 7,
   "metadata": {},
   "outputs": [
    {
     "data": {
      "text/plain": [
       "[{'date': '2019-10-11T10:30:00+02:00',\n",
       "  'subject': 'Beautiful is better than ugly'},\n",
       " {'date': '2019-10-09T11:36:05+02:00',\n",
       "  'subject': 'Explicit is better than implicit'},\n",
       " {'date': '2019-10-10T19:16:25+02:00',\n",
       "  'subject': 'Simple is better than complex'},\n",
       " {'date': '2019-11-01T18:12:00+02:00',\n",
       "  'subject': 'Complex is better than complicated'},\n",
       " {'date': '2019-10-09T21:30:10+02:00',\n",
       "  'subject': 'Flat is better than nested'},\n",
       " {'date': '2020-01-01T09:23:00+02:00',\n",
       "  'subject': 'Sparse is better than dense'},\n",
       " {'date': '2020-01-15T14:06:07+02:00', 'subject': 'Readability counts'},\n",
       " {'date': '2020-02-01T12:00:00+02:00', 'subject': 'Now is better than never'}]"
      ]
     },
     "execution_count": 7,
     "metadata": {},
     "output_type": "execute_result"
    }
   ],
   "source": [
    "for message in messages:\n",
    "    message[\"date\"] = datetime.strptime(message[\"date\"], \"%a, %d %b %Y %H:%M:%S %z\").isoformat()\n",
    "messages"
   ]
  },
  {
   "cell_type": "code",
   "execution_count": 8,
   "metadata": {},
   "outputs": [
    {
     "data": {
      "text/plain": [
       "{'test-index': {'mappings': {'properties': {'date': {'type': 'date'},\n",
       "    'subject': {'type': 'text',\n",
       "     'fields': {'keyword': {'type': 'keyword', 'ignore_above': 256}}}}}}}"
      ]
     },
     "execution_count": 8,
     "metadata": {},
     "output_type": "execute_result"
    }
   ],
   "source": [
    "es.indices.delete(index=\"test-index\", ignore_unavailable=True)\n",
    "for id_, message in enumerate(messages):\n",
    "    es.index(index=\"test-index\", id=id_, body=message, refresh=True)\n",
    "es.indices.get_mapping(index=\"test-index\")"
   ]
  },
  {
   "cell_type": "markdown",
   "metadata": {},
   "source": [
    "This looks better. The date field was properly recognized thanks to the [date detection](https://www.elastic.co/guide/en/elasticsearch/reference/current/dynamic-field-mapping.html#date-detection) that is enabled by default."
   ]
  },
  {
   "cell_type": "markdown",
   "metadata": {},
   "source": [
    "# Searching"
   ]
  },
  {
   "cell_type": "markdown",
   "metadata": {},
   "source": [
    "We can first check that simple queries work as expected. Note that I'll use the [query string syntax](https://www.elastic.co/guide/en/elasticsearch/reference/7.6/query-dsl-query-string-query.html#query-string-syntax). I find it more natural and easier to integrate in a web application search box."
   ]
  },
  {
   "cell_type": "code",
   "execution_count": 9,
   "metadata": {},
   "outputs": [
    {
     "data": {
      "text/plain": [
       "{'took': 140,\n",
       " 'timed_out': False,\n",
       " '_shards': {'total': 1, 'successful': 1, 'skipped': 0, 'failed': 0},\n",
       " 'hits': {'total': {'value': 2, 'relation': 'eq'},\n",
       "  'max_score': 1.2398099,\n",
       "  'hits': [{'_index': 'test-index',\n",
       "    '_type': '_doc',\n",
       "    '_id': '2',\n",
       "    '_score': 1.2398099,\n",
       "    '_source': {'date': '2019-10-10T19:16:25+02:00',\n",
       "     'subject': 'Simple is better than complex'}},\n",
       "   {'_index': 'test-index',\n",
       "    '_type': '_doc',\n",
       "    '_id': '3',\n",
       "    '_score': 1.2398099,\n",
       "    '_source': {'date': '2019-11-01T18:12:00+02:00',\n",
       "     'subject': 'Complex is better than complicated'}}]}}"
      ]
     },
     "execution_count": 9,
     "metadata": {},
     "output_type": "execute_result"
    }
   ],
   "source": [
    "es.search(index=\"test-index\", q=\"complex\")"
   ]
  },
  {
   "cell_type": "markdown",
   "metadata": {},
   "source": [
    "Let's define a function that just returns the list of hits."
   ]
  },
  {
   "cell_type": "code",
   "execution_count": 10,
   "metadata": {},
   "outputs": [],
   "source": [
    "def search(query):\n",
    "    return es.search(index=\"test-index\", q=query)[\"hits\"][\"hits\"]"
   ]
  },
  {
   "cell_type": "code",
   "execution_count": 11,
   "metadata": {},
   "outputs": [
    {
     "data": {
      "text/plain": [
       "[{'_index': 'test-index',\n",
       "  '_type': '_doc',\n",
       "  '_id': '2',\n",
       "  '_score': 1.2398099,\n",
       "  '_source': {'date': '2019-10-10T19:16:25+02:00',\n",
       "   'subject': 'Simple is better than complex'}},\n",
       " {'_index': 'test-index',\n",
       "  '_type': '_doc',\n",
       "  '_id': '3',\n",
       "  '_score': 1.2398099,\n",
       "  '_source': {'date': '2019-11-01T18:12:00+02:00',\n",
       "   'subject': 'Complex is better than complicated'}}]"
      ]
     },
     "execution_count": 11,
     "metadata": {},
     "output_type": "execute_result"
    }
   ],
   "source": [
    "search(\"complex\")"
   ]
  },
  {
   "cell_type": "markdown",
   "metadata": {},
   "source": [
    "Let's now try to search by date to retrieve the messages from the 9th of October 2019."
   ]
  },
  {
   "cell_type": "code",
   "execution_count": 12,
   "metadata": {},
   "outputs": [
    {
     "data": {
      "text/plain": [
       "[]"
      ]
     },
     "execution_count": 12,
     "metadata": {},
     "output_type": "execute_result"
    }
   ],
   "source": [
    "search(\"20191009\")"
   ]
  },
  {
   "cell_type": "markdown",
   "metadata": {},
   "source": [
    "Nothing... The date format is probably not recognized."
   ]
  },
  {
   "cell_type": "code",
   "execution_count": 13,
   "metadata": {},
   "outputs": [
    {
     "data": {
      "text/plain": [
       "[{'_index': 'test-index',\n",
       "  '_type': '_doc',\n",
       "  '_id': '1',\n",
       "  '_score': 1.0,\n",
       "  '_source': {'date': '2019-10-09T11:36:05+02:00',\n",
       "   'subject': 'Explicit is better than implicit'}},\n",
       " {'_index': 'test-index',\n",
       "  '_type': '_doc',\n",
       "  '_id': '4',\n",
       "  '_score': 1.0,\n",
       "  '_source': {'date': '2019-10-09T21:30:10+02:00',\n",
       "   'subject': 'Flat is better than nested'}}]"
      ]
     },
     "execution_count": 13,
     "metadata": {},
     "output_type": "execute_result"
    }
   ],
   "source": [
    "search(\"2019-10-09\")"
   ]
  },
  {
   "cell_type": "markdown",
   "metadata": {},
   "source": [
    "So we have to use `-`. OK, let's try to retrieve all messages from January 2020."
   ]
  },
  {
   "cell_type": "code",
   "execution_count": 14,
   "metadata": {},
   "outputs": [
    {
     "data": {
      "text/plain": [
       "[{'_index': 'test-index',\n",
       "  '_type': '_doc',\n",
       "  '_id': '5',\n",
       "  '_score': 1.0,\n",
       "  '_source': {'date': '2020-01-01T09:23:00+02:00',\n",
       "   'subject': 'Sparse is better than dense'}}]"
      ]
     },
     "execution_count": 14,
     "metadata": {},
     "output_type": "execute_result"
    }
   ],
   "source": [
    "search(\"2020-01\")"
   ]
  },
  {
   "cell_type": "markdown",
   "metadata": {},
   "source": [
    "That's not really what we expected. There is a message the 15th of January. This shows that `2020-01` is in fact equivalent to `2020-01-01`. This would be the same with `2020`."
   ]
  },
  {
   "cell_type": "code",
   "execution_count": 15,
   "metadata": {},
   "outputs": [
    {
     "data": {
      "text/plain": [
       "[{'_index': 'test-index',\n",
       "  '_type': '_doc',\n",
       "  '_id': '5',\n",
       "  '_score': 1.0,\n",
       "  '_source': {'date': '2020-01-01T09:23:00+02:00',\n",
       "   'subject': 'Sparse is better than dense'}}]"
      ]
     },
     "execution_count": 15,
     "metadata": {},
     "output_type": "execute_result"
    }
   ],
   "source": [
    "search(\"date:2020\")"
   ]
  },
  {
   "cell_type": "markdown",
   "metadata": {},
   "source": [
    "To get the full month, we have to use a range query."
   ]
  },
  {
   "cell_type": "code",
   "execution_count": 16,
   "metadata": {},
   "outputs": [
    {
     "data": {
      "text/plain": [
       "[{'_index': 'test-index',\n",
       "  '_type': '_doc',\n",
       "  '_id': '5',\n",
       "  '_score': 1.0,\n",
       "  '_source': {'date': '2020-01-01T09:23:00+02:00',\n",
       "   'subject': 'Sparse is better than dense'}},\n",
       " {'_index': 'test-index',\n",
       "  '_type': '_doc',\n",
       "  '_id': '6',\n",
       "  '_score': 1.0,\n",
       "  '_source': {'date': '2020-01-15T14:06:07+02:00',\n",
       "   'subject': 'Readability counts'}}]"
      ]
     },
     "execution_count": 16,
     "metadata": {},
     "output_type": "execute_result"
    }
   ],
   "source": [
    "search(\"[2020-01-01 TO 2020-01-31]\")"
   ]
  },
  {
   "cell_type": "markdown",
   "metadata": {},
   "source": [
    "Which is equivalent to:"
   ]
  },
  {
   "cell_type": "code",
   "execution_count": 17,
   "metadata": {},
   "outputs": [
    {
     "data": {
      "text/plain": [
       "[{'_index': 'test-index',\n",
       "  '_type': '_doc',\n",
       "  '_id': '5',\n",
       "  '_score': 1.0,\n",
       "  '_source': {'date': '2020-01-01T09:23:00+02:00',\n",
       "   'subject': 'Sparse is better than dense'}},\n",
       " {'_index': 'test-index',\n",
       "  '_type': '_doc',\n",
       "  '_id': '6',\n",
       "  '_score': 1.0,\n",
       "  '_source': {'date': '2020-01-15T14:06:07+02:00',\n",
       "   'subject': 'Readability counts'}}]"
      ]
     },
     "execution_count": 17,
     "metadata": {},
     "output_type": "execute_result"
    }
   ],
   "source": [
    "search(\"[2020-01 TO 2020-02}\")"
   ]
  },
  {
   "cell_type": "markdown",
   "metadata": {},
   "source": [
    "Note that `}`, in the range query, excludes the 1st of February. Using `]` would give us an additional message:"
   ]
  },
  {
   "cell_type": "code",
   "execution_count": 18,
   "metadata": {},
   "outputs": [
    {
     "data": {
      "text/plain": [
       "[{'_index': 'test-index',\n",
       "  '_type': '_doc',\n",
       "  '_id': '5',\n",
       "  '_score': 1.0,\n",
       "  '_source': {'date': '2020-01-01T09:23:00+02:00',\n",
       "   'subject': 'Sparse is better than dense'}},\n",
       " {'_index': 'test-index',\n",
       "  '_type': '_doc',\n",
       "  '_id': '6',\n",
       "  '_score': 1.0,\n",
       "  '_source': {'date': '2020-01-15T14:06:07+02:00',\n",
       "   'subject': 'Readability counts'}},\n",
       " {'_index': 'test-index',\n",
       "  '_type': '_doc',\n",
       "  '_id': '7',\n",
       "  '_score': 1.0,\n",
       "  '_source': {'date': '2020-02-01T12:00:00+02:00',\n",
       "   'subject': 'Now is better than never'}}]"
      ]
     },
     "execution_count": 18,
     "metadata": {},
     "output_type": "execute_result"
    }
   ],
   "source": [
    "search(\"[2020-01 TO 2020-02]\")"
   ]
  },
  {
   "cell_type": "markdown",
   "metadata": {},
   "source": [
    "Another way to retrieve messages from a specific period is to use [date math](https://www.elastic.co/guide/en/elasticsearch/reference/current/common-options.html#date-math):"
   ]
  },
  {
   "cell_type": "code",
   "execution_count": 19,
   "metadata": {},
   "outputs": [
    {
     "data": {
      "text/plain": [
       "[{'_index': 'test-index',\n",
       "  '_type': '_doc',\n",
       "  '_id': '5',\n",
       "  '_score': 1.0,\n",
       "  '_source': {'date': '2020-01-01T09:23:00+02:00',\n",
       "   'subject': 'Sparse is better than dense'}},\n",
       " {'_index': 'test-index',\n",
       "  '_type': '_doc',\n",
       "  '_id': '6',\n",
       "  '_score': 1.0,\n",
       "  '_source': {'date': '2020-01-15T14:06:07+02:00',\n",
       "   'subject': 'Readability counts'}}]"
      ]
     },
     "execution_count": 19,
     "metadata": {},
     "output_type": "execute_result"
    }
   ],
   "source": [
    "search(\"2020-01\\|\\|\\/M\")"
   ]
  },
  {
   "cell_type": "code",
   "execution_count": 20,
   "metadata": {},
   "outputs": [
    {
     "data": {
      "text/plain": [
       "[{'_index': 'test-index',\n",
       "  '_type': '_doc',\n",
       "  '_id': '5',\n",
       "  '_score': 1.0,\n",
       "  '_source': {'date': '2020-01-01T09:23:00+02:00',\n",
       "   'subject': 'Sparse is better than dense'}},\n",
       " {'_index': 'test-index',\n",
       "  '_type': '_doc',\n",
       "  '_id': '6',\n",
       "  '_score': 1.0,\n",
       "  '_source': {'date': '2020-01-15T14:06:07+02:00',\n",
       "   'subject': 'Readability counts'}},\n",
       " {'_index': 'test-index',\n",
       "  '_type': '_doc',\n",
       "  '_id': '7',\n",
       "  '_score': 1.0,\n",
       "  '_source': {'date': '2020-02-01T12:00:00+02:00',\n",
       "   'subject': 'Now is better than never'}}]"
      ]
     },
     "execution_count": 20,
     "metadata": {},
     "output_type": "execute_result"
    }
   ],
   "source": [
    "search(\"date:2020\\|\\|\\/y\")"
   ]
  },
  {
   "cell_type": "markdown",
   "metadata": {},
   "source": [
    "This is a nice solution but it's not super easy to make occasional users remember the syntax, especially the quoting of the `|` and `/` characters. Range queries are probably more natural."
   ]
  },
  {
   "cell_type": "markdown",
   "metadata": {},
   "source": [
    "One thing that could be nice is if both `2019-10-09` and `20191009` were recognized. This is possible by adding the format we want to accept in the mapping.\n",
    "\n",
    "Let's recreate the index with the new mapping."
   ]
  },
  {
   "cell_type": "code",
   "execution_count": 21,
   "metadata": {},
   "outputs": [],
   "source": [
    "mapping = {\n",
    "    \"date\": {\n",
    "        \"type\": \"date\",\n",
    "        \"format\": \"strict_date_optional_time||yyyyMMdd||yyyyMM\",\n",
    "    },\n",
    "    \"subject\": {\"type\": \"text\", \"fields\": {\"keyword\": {\"type\": \"keyword\"}}},\n",
    "}\n",
    "es.indices.delete(index=\"test-index\", ignore_unavailable=True)\n",
    "es.indices.create(index=\"test-index\", body={\"mappings\": {\"dynamic\": \"strict\", \"properties\": mapping}})\n",
    "for id_, message in enumerate(messages):\n",
    "    es.index(index=\"test-index\", id=id_, body=message, refresh=True)"
   ]
  },
  {
   "cell_type": "code",
   "execution_count": 22,
   "metadata": {},
   "outputs": [
    {
     "data": {
      "text/plain": [
       "[{'_index': 'test-index',\n",
       "  '_type': '_doc',\n",
       "  '_id': '1',\n",
       "  '_score': 1.0,\n",
       "  '_source': {'date': '2019-10-09T11:36:05+02:00',\n",
       "   'subject': 'Explicit is better than implicit'}},\n",
       " {'_index': 'test-index',\n",
       "  '_type': '_doc',\n",
       "  '_id': '4',\n",
       "  '_score': 1.0,\n",
       "  '_source': {'date': '2019-10-09T21:30:10+02:00',\n",
       "   'subject': 'Flat is better than nested'}}]"
      ]
     },
     "execution_count": 22,
     "metadata": {},
     "output_type": "execute_result"
    }
   ],
   "source": [
    "search(\"20191009\")"
   ]
  },
  {
   "cell_type": "code",
   "execution_count": 23,
   "metadata": {},
   "outputs": [
    {
     "data": {
      "text/plain": [
       "[{'_index': 'test-index',\n",
       "  '_type': '_doc',\n",
       "  '_id': '1',\n",
       "  '_score': 1.0,\n",
       "  '_source': {'date': '2019-10-09T11:36:05+02:00',\n",
       "   'subject': 'Explicit is better than implicit'}},\n",
       " {'_index': 'test-index',\n",
       "  '_type': '_doc',\n",
       "  '_id': '4',\n",
       "  '_score': 1.0,\n",
       "  '_source': {'date': '2019-10-09T21:30:10+02:00',\n",
       "   'subject': 'Flat is better than nested'}}]"
      ]
     },
     "execution_count": 23,
     "metadata": {},
     "output_type": "execute_result"
    }
   ],
   "source": [
    "search(\"2019-10-09\")"
   ]
  },
  {
   "cell_type": "code",
   "execution_count": 24,
   "metadata": {},
   "outputs": [
    {
     "data": {
      "text/plain": [
       "[{'_index': 'test-index',\n",
       "  '_type': '_doc',\n",
       "  '_id': '7',\n",
       "  '_score': 1.0,\n",
       "  '_source': {'date': '2020-02-01T12:00:00+02:00',\n",
       "   'subject': 'Now is better than never'}}]"
      ]
     },
     "execution_count": 24,
     "metadata": {},
     "output_type": "execute_result"
    }
   ],
   "source": [
    "search(\"date:[202002 TO now]\")"
   ]
  },
  {
   "cell_type": "code",
   "execution_count": 25,
   "metadata": {},
   "outputs": [
    {
     "data": {
      "text/plain": [
       "[{'_index': 'test-index',\n",
       "  '_type': '_doc',\n",
       "  '_id': '7',\n",
       "  '_score': 1.0,\n",
       "  '_source': {'date': '2020-02-01T12:00:00+02:00',\n",
       "   'subject': 'Now is better than never'}}]"
      ]
     },
     "execution_count": 25,
     "metadata": {},
     "output_type": "execute_result"
    }
   ],
   "source": [
    "search(\"date:[2020-02 TO now]\")"
   ]
  },
  {
   "cell_type": "markdown",
   "metadata": {},
   "source": [
    "As seen above, both formats work now."
   ]
  },
  {
   "cell_type": "markdown",
   "metadata": {},
   "source": [
    "# Conclusion"
   ]
  },
  {
   "cell_type": "markdown",
   "metadata": {},
   "source": [
    "* The mapping is used when indexing new documents. It's also used by the search. Define in the mapping all the date formats you want the search to support (not only the ones required to ingest documents).\n",
    "* A year `2020` or month `2020-01` is converted to the first day of the year/month: `2020-01-01`.\n",
    "* To search by period, use either date math `2020-01\\|\\|\\/M` or a range query `[2020-01-01 TO 2020-01-31]`"
   ]
  },
  {
   "cell_type": "code",
   "execution_count": null,
   "metadata": {},
   "outputs": [],
   "source": []
  }
 ],
 "metadata": {
  "kernelspec": {
   "display_name": "Python 3",
   "language": "python",
   "name": "python3"
  },
  "language_info": {
   "codemirror_mode": {
    "name": "ipython",
    "version": 3
   },
   "file_extension": ".py",
   "mimetype": "text/x-python",
   "name": "python",
   "nbconvert_exporter": "python",
   "pygments_lexer": "ipython3",
   "version": "3.8.1"
  },
  "nikola": {
   "category": "python",
   "date": "2020-03-11 19:08:16 UTC+01:00",
   "description": "",
   "link": "",
   "slug": "searching-by-date-in-elasticsearch",
   "tags": "python,elasticsearch",
   "title": "Searching by date in Elasticsearch",
   "type": "text"
  }
 },
 "nbformat": 4,
 "nbformat_minor": 4
}
